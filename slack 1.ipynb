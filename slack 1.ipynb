{
 "cells": [
  {
   "cell_type": "code",
   "execution_count": null,
   "metadata": {},
   "outputs": [],
   "source": [
    "list_ = []\n",
    "for i in range(1,1001) :\n",
    "    for a in str(i) :\n",
    "        x = int(a)\n",
    "        list_.append(x)"
   ]
  },
  {
   "cell_type": "markdown",
   "metadata": {},
   "source": [
    "***1***\n",
    "우선 빈 리스트를 만들고 그 안에 숫자를 집어넣는데 100 이면 1,0,0 150이면 1,5,0 과 같은 형식으로 숫자를 집어넣었습니다."
   ]
  },
  {
   "cell_type": "code",
   "execution_count": null,
   "metadata": {},
   "outputs": [],
   "source": [
    "for j in range(0,10) :\n",
    "    a =list_.count(j)\n",
    "    print(f\"{j} 의 개수는 {a} 개 입니다.\")"
   ]
  },
  {
   "cell_type": "markdown",
   "metadata": {},
   "source": [
    "***2***\n",
    "그리고 리스트의 count 메소드를 이용하여 리스트 내에서 0 부터 9 각각의 개수를 세서 출력하는 코드를 작성했습니다."
   ]
  },
  {
   "cell_type": "code",
   "execution_count": null,
   "metadata": {},
   "outputs": [],
   "source": []
  }
 ],
 "metadata": {
  "kernelspec": {
   "display_name": "Python 3",
   "language": "python",
   "name": "python3"
  },
  "language_info": {
   "codemirror_mode": {
    "name": "ipython",
    "version": 3
   },
   "file_extension": ".py",
   "mimetype": "text/x-python",
   "name": "python",
   "nbconvert_exporter": "python",
   "pygments_lexer": "ipython3",
   "version": "3.8.5"
  }
 },
 "nbformat": 4,
 "nbformat_minor": 4
}
