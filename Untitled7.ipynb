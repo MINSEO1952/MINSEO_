{
 "cells": [
  {
   "cell_type": "code",
   "execution_count": null,
   "metadata": {},
   "outputs": [],
   "source": [
    "from itertools import combinations\n",
    "\n",
    "def solution(*nums):\n",
    "    if len(nums) < 3:\n",
    "        return \"3개 이상의 값을 입력해주세요.\"\n",
    "    \n",
    "    if len(nums) == 3:\n",
    "        total_sum = sum(nums)\n",
    "        for i in range(2, total_sum):\n",
    "            if total_sum % i == 0:\n",
    "                return \"소수가 아닙니다\"\n",
    "        else:\n",
    "            return \"소수입니다\"\n",
    "        \n",
    "    else:\n",
    "        count = 0\n",
    "        com_length_3 = list(combinations(nums, 3))\n",
    "        for com in com_length_3:\n",
    "            for i in range(2, sum(com)):\n",
    "                if sum(com) % i == 0:\n",
    "                    break\n",
    "            else:\n",
    "                print(f\"입력하신 값 중 {com}의 합인 {sum(com)}의 경우 소수입니다\")\n",
    "                count += 1\n",
    "        \n",
    "        return f\"총 소수가 되는 경우는 {count} 가지입니다.\"\n",
    "\n",
    "print(solution(1, 2, 3, 5,8))"
   ]
  },
  {
   "cell_type": "markdown",
   "metadata": {},
   "source": [
    "solution 이라는 함수를 정의하여 숫자 매개변수를 받아 그 숫자들 중 3개를 선택하여 더했을 때 그 값이 소수인경우와 그게 총 몇개인지 출력하는 코드를 작성했다. 우선 3개를 선택하기 때문에 적어도 3개 이상의 매개변수가 입력되어야 한다. 그래서 3개 이하로 입력된 경우 안내 문구를 반환한다. 다음 3개가 입력된 경우는 그냥 입력된 값 3개를 몽땅 더해 소수가 되는지 판별하면 되기에 그렇게 했다. 마지막으로 3개 이상 입력된 경우 n개중 3개를 고르는 코드를 콤비네이션을 통해 작성했고 그 경우들 중 합이 소수가 되는 경우와 총 소수가 되는 가짓수를 출력하며 코드가 마무리된다."
   ]
  }
 ],
 "metadata": {
  "kernelspec": {
   "display_name": "Python 3",
   "language": "python",
   "name": "python3"
  },
  "language_info": {
   "codemirror_mode": {
    "name": "ipython",
    "version": 3
   },
   "file_extension": ".py",
   "mimetype": "text/x-python",
   "name": "python",
   "nbconvert_exporter": "python",
   "pygments_lexer": "ipython3",
   "version": "3.8.5"
  }
 },
 "nbformat": 4,
 "nbformat_minor": 4
}
