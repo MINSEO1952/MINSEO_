{
 "cells": [
  {
   "cell_type": "markdown",
   "metadata": {},
   "source": [
    "```사용자로부터 문자열 str 를 입력 받습니다.\n",
    "str에서 한 번만 등장하는 문자를 사전 순으로 정렬한 문자열을 출력하는 Python code를 작성해볼까요?\n",
    "한 번만 등장하는 문자가 없을 경우에는 모든 문자들이 중복이라는 메시지를 출력한다.```"
   ]
  },
  {
   "cell_type": "code",
   "execution_count": null,
   "metadata": {},
   "outputs": [],
   "source": [
    "str_ = input(\"문자열을 입력하세요 > \")"
   ]
  },
  {
   "cell_type": "markdown",
   "metadata": {},
   "source": [
    "문자열을 입력받습니다."
   ]
  },
  {
   "cell_type": "code",
   "execution_count": null,
   "metadata": {},
   "outputs": [],
   "source": [
    "sorted_str_ = sorted(str_)"
   ]
  },
  {
   "cell_type": "markdown",
   "metadata": {},
   "source": [
    "문자열을 리스트화 해서 분류까지 해주는 sorted 메소드를 사용합니다."
   ]
  },
  {
   "cell_type": "code",
   "execution_count": null,
   "metadata": {},
   "outputs": [],
   "source": [
    "count_ = 0\n",
    "for i in range(91,117) :\n",
    "    if 0 < sorted_str_.count(chr(i)) < 2 :\n",
    "        count_ += 1\n",
    "    elif sorted_str_.count(chr(i)) >= 2 :\n",
    "        while chr(i) in sorted_str_ :\n",
    "            sorted_str_.remove(chr(i))"
   ]
  },
  {
   "cell_type": "markdown",
   "metadata": {},
   "source": [
    "count_ 라는 변수를 만들고 숫자를 알파벳으로 변환하는 chr()을 이용합니다.\n",
    "분류된 리스트 내 에서 중복되는 알파벳이 있는지 확인하는 코드입니다.\n",
    "a~z 까지 개수를 세는데 만약 그 개수가 한개라면 count값을 1 올리고\n",
    "그 개수가 두개 이상이라면 중복이라는 뜻이므로 분류된 리스트에서 중복된 알파벳 값을 아예 지워버립니다."
   ]
  },
  {
   "cell_type": "code",
   "execution_count": null,
   "metadata": {},
   "outputs": [],
   "source": [
    "result = ''.join(sorted_str_)"
   ]
  },
  {
   "cell_type": "markdown",
   "metadata": {},
   "source": [
    "중복된 알파벳이 지워진 분류된 리스트를 다시 문자열화 해줍니다."
   ]
  },
  {
   "cell_type": "code",
   "execution_count": null,
   "metadata": {},
   "outputs": [],
   "source": [
    "if count_ == 0 :\n",
    "    print(\"모든 문자들이 중복입니다.\")\n",
    "else :\n",
    "    print(result)"
   ]
  },
  {
   "cell_type": "markdown",
   "metadata": {},
   "source": [
    "만약 카운트 값이 0 이었다면 알파벳을 세었을 때 1개만 있었던 것이 없다는 뜻이므로 모든 문자가 중복이였다는 결과가 도출됩니다.\n",
    "그게 아니라면 살아남은 알파벳이 있었을테니 그것을 출력하면서 코드가 마무리 됩니다."
   ]
  },
  {
   "cell_type": "code",
   "execution_count": null,
   "metadata": {},
   "outputs": [],
   "source": []
  }
 ],
 "metadata": {
  "kernelspec": {
   "display_name": "Python 3",
   "language": "python",
   "name": "python3"
  },
  "language_info": {
   "codemirror_mode": {
    "name": "ipython",
    "version": 3
   },
   "file_extension": ".py",
   "mimetype": "text/x-python",
   "name": "python",
   "nbconvert_exporter": "python",
   "pygments_lexer": "ipython3",
   "version": "3.8.5"
  }
 },
 "nbformat": 4,
 "nbformat_minor": 4
}
